{
  "cells": [
    {
      "cell_type": "code",
      "source": [
        "import numpy as np\n",
        "import pandas as pd\n",
        "import matplotlib.pyplot as plt\n",
        "import tensorflow as tf\n",
        "from tensorflow.keras.models import Sequential\n",
        "from tensorflow.keras.preprocessing.text import Tokenizer\n",
        "from tensorflow.keras.layers import Dense, Embedding, Lambda\n",
        "from sklearn.decomposition import PCA\n",
        "import re"
      ],
      "metadata": {
        "id": "aHmmq5GP2tm-"
      },
      "id": "aHmmq5GP2tm-",
      "execution_count": 1,
      "outputs": []
    },
    {
      "cell_type": "code",
      "source": [
        "with open('CBOW.txt', 'r', encoding='utf-8') as file:\n",
        "  data = file.read()\n",
        "data"
      ],
      "metadata": {
        "colab": {
          "base_uri": "https://localhost:8080/",
          "height": 163
        },
        "id": "coyLYLM14BGM",
        "outputId": "73b078e9-4a31-48e7-aa52-f35ce8b5c264"
      },
      "id": "coyLYLM14BGM",
      "execution_count": 2,
      "outputs": [
        {
          "output_type": "execute_result",
          "data": {
            "text/plain": [
              "'The speed of transmission is an important point of difference between the two viruses. Influenza has a shorter median incubation period (the time from infection to appearance of symptoms) and a shorter serial interval (the time between successive cases) than COVID-19 virus. The serial interval for COVID-19 virus is estimated to be 5-6 days, while for influenza virus, the serial interval is 3 days. This means that influenza can spread faster than COVID-19. \\n\\nFurther, transmission in the first 3-5 days of illness, or potentially pre-symptomatic transmission –transmission of the virus before the appearance of symptoms – is a major driver of transmission for influenza. In contrast, while we are learning that there are people who can shed COVID-19 virus 24-48 hours prior to symptom onset, at present, this does not appear to be a major driver of transmission. \\n\\nThe reproductive number – the number of secondary infections generated from one infected individual – is understood to be between 2 and 2.5 for COVID-19 virus, higher than for influenza. However, estimates for both COVID-19 and influenza viruses are very context and time-specific, making direct comparisons more difficult.  '"
            ],
            "application/vnd.google.colaboratory.intrinsic+json": {
              "type": "string"
            }
          },
          "metadata": {},
          "execution_count": 2
        }
      ]
    },
    {
      "cell_type": "code",
      "source": [
        "sentences = data.split(\".\")\n",
        "sentences"
      ],
      "metadata": {
        "colab": {
          "base_uri": "https://localhost:8080/"
        },
        "id": "6CLGb14G4Z0W",
        "outputId": "d5cbc0b1-cbe0-4708-fbfa-977e36756f9b"
      },
      "id": "6CLGb14G4Z0W",
      "execution_count": 3,
      "outputs": [
        {
          "output_type": "execute_result",
          "data": {
            "text/plain": [
              "['The speed of transmission is an important point of difference between the two viruses',\n",
              " ' Influenza has a shorter median incubation period (the time from infection to appearance of symptoms) and a shorter serial interval (the time between successive cases) than COVID-19 virus',\n",
              " ' The serial interval for COVID-19 virus is estimated to be 5-6 days, while for influenza virus, the serial interval is 3 days',\n",
              " ' This means that influenza can spread faster than COVID-19',\n",
              " ' \\n\\nFurther, transmission in the first 3-5 days of illness, or potentially pre-symptomatic transmission –transmission of the virus before the appearance of symptoms – is a major driver of transmission for influenza',\n",
              " ' In contrast, while we are learning that there are people who can shed COVID-19 virus 24-48 hours prior to symptom onset, at present, this does not appear to be a major driver of transmission',\n",
              " ' \\n\\nThe reproductive number – the number of secondary infections generated from one infected individual – is understood to be between 2 and 2',\n",
              " '5 for COVID-19 virus, higher than for influenza',\n",
              " ' However, estimates for both COVID-19 and influenza viruses are very context and time-specific, making direct comparisons more difficult',\n",
              " '  ']"
            ]
          },
          "metadata": {},
          "execution_count": 3
        }
      ]
    },
    {
      "cell_type": "code",
      "source": [
        "clean_sentences = []\n",
        "\n",
        "for sentence in sentences:\n",
        "  if sentence==\"\":\n",
        "    continue;\n",
        "  sentence = re.sub('[^A-Za-z0-9]+', ' ', sentence)\n",
        "  sentence = re.sub(r'(?:^| )\\w(?:$| )', ' ', sentence).strip()\n",
        "  sentence = sentence.lower()\n",
        "  clean_sentences.append(sentence)\n",
        "\n",
        "clean_sentences"
      ],
      "metadata": {
        "colab": {
          "base_uri": "https://localhost:8080/"
        },
        "id": "0ciLWQGK4iru",
        "outputId": "750f2e96-b3ec-410f-daf6-b262b659ec04"
      },
      "id": "0ciLWQGK4iru",
      "execution_count": 4,
      "outputs": [
        {
          "output_type": "execute_result",
          "data": {
            "text/plain": [
              "['the speed of transmission is an important point of difference between the two viruses',\n",
              " 'influenza has shorter median incubation period the time from infection to appearance of symptoms and shorter serial interval the time between successive cases than covid 19 virus',\n",
              " 'the serial interval for covid 19 virus is estimated to be 6 days while for influenza virus the serial interval is days',\n",
              " 'this means that influenza can spread faster than covid 19',\n",
              " 'further transmission in the first 5 days of illness or potentially pre symptomatic transmission transmission of the virus before the appearance of symptoms is major driver of transmission for influenza',\n",
              " 'in contrast while we are learning that there are people who can shed covid 19 virus 24 48 hours prior to symptom onset at present this does not appear to be major driver of transmission',\n",
              " 'the reproductive number the number of secondary infections generated from one infected individual is understood to be between and',\n",
              " 'for covid 19 virus higher than for influenza',\n",
              " 'however estimates for both covid 19 and influenza viruses are very context and time specific making direct comparisons more difficult',\n",
              " '']"
            ]
          },
          "metadata": {},
          "execution_count": 4
        }
      ]
    },
    {
      "cell_type": "code",
      "source": [
        "corpus = clean_sentences\n",
        "\n",
        "tokenizer = Tokenizer()\n",
        "tokenizer.fit_on_texts(corpus)\n",
        "sequences = tokenizer.texts_to_sequences(corpus)\n",
        "print(\"Vector of words:\")\n",
        "print(sequences)"
      ],
      "metadata": {
        "colab": {
          "base_uri": "https://localhost:8080/"
        },
        "id": "jgvSPYul5m3j",
        "outputId": "61012bb9-22da-4013-9426-3a38822298e4"
      },
      "id": "jgvSPYul5m3j",
      "execution_count": 5,
      "outputs": [
        {
          "output_type": "stream",
          "name": "stdout",
          "text": [
            "Vector of words:\n",
            "[[1, 33, 2, 3, 9, 34, 35, 36, 2, 37, 12, 1, 38, 20], [4, 39, 21, 40, 41, 42, 1, 13, 22, 43, 10, 23, 2, 24, 11, 21, 14, 15, 1, 13, 12, 44, 45, 16, 5, 6, 7], [1, 14, 15, 8, 5, 6, 7, 9, 46, 10, 17, 47, 18, 25, 8, 4, 7, 1, 14, 15, 9, 18], [26, 48, 27, 4, 28, 49, 50, 16, 5, 6], [51, 3, 29, 1, 52, 53, 18, 2, 54, 55, 56, 57, 58, 3, 3, 2, 1, 7, 59, 1, 23, 2, 24, 9, 30, 31, 2, 3, 8, 4], [29, 60, 25, 61, 19, 62, 27, 63, 19, 64, 65, 28, 66, 5, 6, 7, 67, 68, 69, 70, 10, 71, 72, 73, 74, 26, 75, 76, 77, 10, 17, 30, 31, 2, 3], [1, 78, 32, 1, 32, 2, 79, 80, 81, 22, 82, 83, 84, 9, 85, 10, 17, 12, 11], [8, 5, 6, 7, 86, 16, 8, 4], [87, 88, 8, 89, 5, 6, 11, 4, 20, 19, 90, 91, 11, 13, 92, 93, 94, 95, 96, 97], []]\n"
          ]
        }
      ]
    },
    {
      "cell_type": "code",
      "source": [
        "index_to_word_map = {}\n",
        "word_to_index_map = {}\n",
        "\n",
        "for index_1, sequence in enumerate(sequences):\n",
        "  print(sequence)\n",
        "  words_in_sentence = clean_sentences[index_1].split()\n",
        "  for index_2, value in enumerate(sequence):\n",
        "    index_to_word_map[value] = words_in_sentence[index_2]\n",
        "    word_to_index_map[words_in_sentence[index_2]] = value"
      ],
      "metadata": {
        "colab": {
          "base_uri": "https://localhost:8080/"
        },
        "id": "lhY_Zn8S73yX",
        "outputId": "78e1b1ac-2560-4246-e8b3-0d7872cdf2e1"
      },
      "id": "lhY_Zn8S73yX",
      "execution_count": 6,
      "outputs": [
        {
          "output_type": "stream",
          "name": "stdout",
          "text": [
            "[1, 33, 2, 3, 9, 34, 35, 36, 2, 37, 12, 1, 38, 20]\n",
            "[4, 39, 21, 40, 41, 42, 1, 13, 22, 43, 10, 23, 2, 24, 11, 21, 14, 15, 1, 13, 12, 44, 45, 16, 5, 6, 7]\n",
            "[1, 14, 15, 8, 5, 6, 7, 9, 46, 10, 17, 47, 18, 25, 8, 4, 7, 1, 14, 15, 9, 18]\n",
            "[26, 48, 27, 4, 28, 49, 50, 16, 5, 6]\n",
            "[51, 3, 29, 1, 52, 53, 18, 2, 54, 55, 56, 57, 58, 3, 3, 2, 1, 7, 59, 1, 23, 2, 24, 9, 30, 31, 2, 3, 8, 4]\n",
            "[29, 60, 25, 61, 19, 62, 27, 63, 19, 64, 65, 28, 66, 5, 6, 7, 67, 68, 69, 70, 10, 71, 72, 73, 74, 26, 75, 76, 77, 10, 17, 30, 31, 2, 3]\n",
            "[1, 78, 32, 1, 32, 2, 79, 80, 81, 22, 82, 83, 84, 9, 85, 10, 17, 12, 11]\n",
            "[8, 5, 6, 7, 86, 16, 8, 4]\n",
            "[87, 88, 8, 89, 5, 6, 11, 4, 20, 19, 90, 91, 11, 13, 92, 93, 94, 95, 96, 97]\n",
            "[]\n"
          ]
        }
      ]
    },
    {
      "cell_type": "code",
      "source": [
        "print(index_to_word_map)\n",
        "print('\\n')\n",
        "print(word_to_index_map)"
      ],
      "metadata": {
        "colab": {
          "base_uri": "https://localhost:8080/"
        },
        "id": "cRmSrXEm93Z1",
        "outputId": "fa3bacc7-6eb3-4138-b4d4-df0f15f5f888"
      },
      "id": "cRmSrXEm93Z1",
      "execution_count": 7,
      "outputs": [
        {
          "output_type": "stream",
          "name": "stdout",
          "text": [
            "{1: 'the', 33: 'speed', 2: 'of', 3: 'transmission', 9: 'is', 34: 'an', 35: 'important', 36: 'point', 37: 'difference', 12: 'between', 38: 'two', 20: 'viruses', 4: 'influenza', 39: 'has', 21: 'shorter', 40: 'median', 41: 'incubation', 42: 'period', 13: 'time', 22: 'from', 43: 'infection', 10: 'to', 23: 'appearance', 24: 'symptoms', 11: 'and', 14: 'serial', 15: 'interval', 44: 'successive', 45: 'cases', 16: 'than', 5: 'covid', 6: '19', 7: 'virus', 8: 'for', 46: 'estimated', 17: 'be', 47: '6', 18: 'days', 25: 'while', 26: 'this', 48: 'means', 27: 'that', 28: 'can', 49: 'spread', 50: 'faster', 51: 'further', 29: 'in', 52: 'first', 53: '5', 54: 'illness', 55: 'or', 56: 'potentially', 57: 'pre', 58: 'symptomatic', 59: 'before', 30: 'major', 31: 'driver', 60: 'contrast', 61: 'we', 19: 'are', 62: 'learning', 63: 'there', 64: 'people', 65: 'who', 66: 'shed', 67: '24', 68: '48', 69: 'hours', 70: 'prior', 71: 'symptom', 72: 'onset', 73: 'at', 74: 'present', 75: 'does', 76: 'not', 77: 'appear', 78: 'reproductive', 32: 'number', 79: 'secondary', 80: 'infections', 81: 'generated', 82: 'one', 83: 'infected', 84: 'individual', 85: 'understood', 86: 'higher', 87: 'however', 88: 'estimates', 89: 'both', 90: 'very', 91: 'context', 92: 'specific', 93: 'making', 94: 'direct', 95: 'comparisons', 96: 'more', 97: 'difficult'}\n",
            "\n",
            "\n",
            "{'the': 1, 'speed': 33, 'of': 2, 'transmission': 3, 'is': 9, 'an': 34, 'important': 35, 'point': 36, 'difference': 37, 'between': 12, 'two': 38, 'viruses': 20, 'influenza': 4, 'has': 39, 'shorter': 21, 'median': 40, 'incubation': 41, 'period': 42, 'time': 13, 'from': 22, 'infection': 43, 'to': 10, 'appearance': 23, 'symptoms': 24, 'and': 11, 'serial': 14, 'interval': 15, 'successive': 44, 'cases': 45, 'than': 16, 'covid': 5, '19': 6, 'virus': 7, 'for': 8, 'estimated': 46, 'be': 17, '6': 47, 'days': 18, 'while': 25, 'this': 26, 'means': 48, 'that': 27, 'can': 28, 'spread': 49, 'faster': 50, 'further': 51, 'in': 29, 'first': 52, '5': 53, 'illness': 54, 'or': 55, 'potentially': 56, 'pre': 57, 'symptomatic': 58, 'before': 59, 'major': 30, 'driver': 31, 'contrast': 60, 'we': 61, 'are': 19, 'learning': 62, 'there': 63, 'people': 64, 'who': 65, 'shed': 66, '24': 67, '48': 68, 'hours': 69, 'prior': 70, 'symptom': 71, 'onset': 72, 'at': 73, 'present': 74, 'does': 75, 'not': 76, 'appear': 77, 'reproductive': 78, 'number': 32, 'secondary': 79, 'infections': 80, 'generated': 81, 'one': 82, 'infected': 83, 'individual': 84, 'understood': 85, 'higher': 86, 'however': 87, 'estimates': 88, 'both': 89, 'very': 90, 'context': 91, 'specific': 92, 'making': 93, 'direct': 94, 'comparisons': 95, 'more': 96, 'difficult': 97}\n"
          ]
        }
      ]
    },
    {
      "cell_type": "code",
      "source": [
        "vocab_size = len(tokenizer.word_index) + 1\n",
        "embedding_size = 10\n",
        "window_size = 2\n",
        "\n",
        "contexts = []\n",
        "targets = []\n",
        "\n",
        "for sequence in sequences:\n",
        "  for i in range(window_size, len(sequence)-window_size):\n",
        "    context = sequence[i -window_size:i] + sequence[i + 1:i + window_size + 1]\n",
        "    target = sequence[i]\n",
        "    contexts.append(context)\n",
        "    targets.append(target)"
      ],
      "metadata": {
        "id": "5EC50v_O-HG0"
      },
      "id": "5EC50v_O-HG0",
      "execution_count": 8,
      "outputs": []
    },
    {
      "cell_type": "code",
      "source": [
        "for i in range(5):\n",
        "  words = []\n",
        "  target = index_to_word_map.get(targets[i])\n",
        "  for j in contexts[i]:\n",
        "    words.append(index_to_word_map.get(j))\n",
        "  print(words, '=>', target)"
      ],
      "metadata": {
        "colab": {
          "base_uri": "https://localhost:8080/"
        },
        "id": "xhoAAAbZFhKv",
        "outputId": "925d7b0b-39a6-4288-a974-6999318bac3b"
      },
      "id": "xhoAAAbZFhKv",
      "execution_count": 9,
      "outputs": [
        {
          "output_type": "stream",
          "name": "stdout",
          "text": [
            "['the', 'speed', 'transmission', 'is'] => of\n",
            "['speed', 'of', 'is', 'an'] => transmission\n",
            "['of', 'transmission', 'an', 'important'] => is\n",
            "['transmission', 'is', 'important', 'point'] => an\n",
            "['is', 'an', 'point', 'of'] => important\n"
          ]
        }
      ]
    },
    {
      "cell_type": "code",
      "source": [
        "X = np.array(contexts)\n",
        "Y = np.array(targets)"
      ],
      "metadata": {
        "id": "FnoLt9vPGImB"
      },
      "id": "FnoLt9vPGImB",
      "execution_count": 10,
      "outputs": []
    },
    {
      "cell_type": "code",
      "source": [
        "model = Sequential()\n",
        "model.add(Embedding(input_dim=vocab_size, output_dim=embedding_size, input_length=2*window_size))\n",
        "model.add(Lambda(lambda x: tf.reduce_mean(x, axis=1)))\n",
        "model.add(Dense(512, activation='relu'))\n",
        "model.add(Dense(256, activation='relu'))\n",
        "model.add(Dense(units=vocab_size, activation='softmax'))"
      ],
      "metadata": {
        "id": "wEiA6JTEJOeK"
      },
      "id": "wEiA6JTEJOeK",
      "execution_count": 11,
      "outputs": []
    },
    {
      "cell_type": "code",
      "source": [
        "model.compile(loss='sparse_categorical_crossentropy', optimizer='adam', metrics=['accuracy'])\n",
        "model.fit(X, Y, epochs=200)"
      ],
      "metadata": {
        "colab": {
          "base_uri": "https://localhost:8080/"
        },
        "id": "NfZxozigJ0nY",
        "outputId": "29df0aad-126b-4312-b3bb-85bb16e5ffa1"
      },
      "id": "NfZxozigJ0nY",
      "execution_count": 12,
      "outputs": [
        {
          "output_type": "stream",
          "name": "stdout",
          "text": [
            "Epoch 1/200\n",
            "5/5 [==============================] - 3s 12ms/step - loss: 4.5846 - accuracy: 0.0268\n",
            "Epoch 2/200\n",
            "5/5 [==============================] - 0s 17ms/step - loss: 4.5733 - accuracy: 0.0537\n",
            "Epoch 3/200\n",
            "5/5 [==============================] - 0s 12ms/step - loss: 4.5570 - accuracy: 0.0537\n",
            "Epoch 4/200\n",
            "5/5 [==============================] - 0s 10ms/step - loss: 4.5307 - accuracy: 0.0537\n",
            "Epoch 5/200\n",
            "5/5 [==============================] - 0s 9ms/step - loss: 4.4849 - accuracy: 0.0537\n",
            "Epoch 6/200\n",
            "5/5 [==============================] - 0s 11ms/step - loss: 4.4113 - accuracy: 0.0537\n",
            "Epoch 7/200\n",
            "5/5 [==============================] - 0s 16ms/step - loss: 4.3246 - accuracy: 0.0537\n",
            "Epoch 8/200\n",
            "5/5 [==============================] - 0s 11ms/step - loss: 4.2584 - accuracy: 0.0537\n",
            "Epoch 9/200\n",
            "5/5 [==============================] - 0s 13ms/step - loss: 4.2487 - accuracy: 0.0537\n",
            "Epoch 10/200\n",
            "5/5 [==============================] - 0s 9ms/step - loss: 4.2005 - accuracy: 0.0738\n",
            "Epoch 11/200\n",
            "5/5 [==============================] - 0s 11ms/step - loss: 4.1623 - accuracy: 0.0940\n",
            "Epoch 12/200\n",
            "5/5 [==============================] - 0s 16ms/step - loss: 4.1302 - accuracy: 0.0872\n",
            "Epoch 13/200\n",
            "5/5 [==============================] - 0s 11ms/step - loss: 4.0880 - accuracy: 0.0805\n",
            "Epoch 14/200\n",
            "5/5 [==============================] - 0s 9ms/step - loss: 4.0384 - accuracy: 0.0805\n",
            "Epoch 15/200\n",
            "5/5 [==============================] - 0s 11ms/step - loss: 3.9822 - accuracy: 0.0940\n",
            "Epoch 16/200\n",
            "5/5 [==============================] - 0s 11ms/step - loss: 3.9180 - accuracy: 0.0872\n",
            "Epoch 17/200\n",
            "5/5 [==============================] - 0s 12ms/step - loss: 3.8506 - accuracy: 0.0940\n",
            "Epoch 18/200\n",
            "5/5 [==============================] - 0s 18ms/step - loss: 3.7690 - accuracy: 0.1208\n",
            "Epoch 19/200\n",
            "5/5 [==============================] - 0s 11ms/step - loss: 3.6833 - accuracy: 0.1409\n",
            "Epoch 20/200\n",
            "5/5 [==============================] - 0s 11ms/step - loss: 3.5864 - accuracy: 0.1745\n",
            "Epoch 21/200\n",
            "5/5 [==============================] - 0s 10ms/step - loss: 3.4833 - accuracy: 0.1879\n",
            "Epoch 22/200\n",
            "5/5 [==============================] - 0s 11ms/step - loss: 3.3682 - accuracy: 0.2013\n",
            "Epoch 23/200\n",
            "5/5 [==============================] - 0s 11ms/step - loss: 3.2548 - accuracy: 0.1879\n",
            "Epoch 24/200\n",
            "5/5 [==============================] - 0s 12ms/step - loss: 3.1357 - accuracy: 0.2148\n",
            "Epoch 25/200\n",
            "5/5 [==============================] - 0s 13ms/step - loss: 3.0275 - accuracy: 0.2215\n",
            "Epoch 26/200\n",
            "5/5 [==============================] - 0s 16ms/step - loss: 2.9120 - accuracy: 0.2416\n",
            "Epoch 27/200\n",
            "5/5 [==============================] - 0s 11ms/step - loss: 2.7911 - accuracy: 0.2685\n",
            "Epoch 28/200\n",
            "5/5 [==============================] - 0s 11ms/step - loss: 2.6780 - accuracy: 0.2953\n",
            "Epoch 29/200\n",
            "5/5 [==============================] - 0s 10ms/step - loss: 2.5589 - accuracy: 0.3087\n",
            "Epoch 30/200\n",
            "5/5 [==============================] - 0s 26ms/step - loss: 2.4505 - accuracy: 0.3087\n",
            "Epoch 31/200\n",
            "5/5 [==============================] - 0s 11ms/step - loss: 2.3338 - accuracy: 0.3423\n",
            "Epoch 32/200\n",
            "5/5 [==============================] - 0s 11ms/step - loss: 2.2172 - accuracy: 0.3893\n",
            "Epoch 33/200\n",
            "5/5 [==============================] - 0s 16ms/step - loss: 2.1118 - accuracy: 0.3826\n",
            "Epoch 34/200\n",
            "5/5 [==============================] - 0s 12ms/step - loss: 2.0032 - accuracy: 0.4430\n",
            "Epoch 35/200\n",
            "5/5 [==============================] - 0s 12ms/step - loss: 1.9033 - accuracy: 0.4698\n",
            "Epoch 36/200\n",
            "5/5 [==============================] - 0s 12ms/step - loss: 1.7877 - accuracy: 0.4966\n",
            "Epoch 37/200\n",
            "5/5 [==============================] - 0s 18ms/step - loss: 1.6855 - accuracy: 0.5705\n",
            "Epoch 38/200\n",
            "5/5 [==============================] - 0s 12ms/step - loss: 1.5973 - accuracy: 0.6040\n",
            "Epoch 39/200\n",
            "5/5 [==============================] - 0s 16ms/step - loss: 1.5004 - accuracy: 0.6107\n",
            "Epoch 40/200\n",
            "5/5 [==============================] - 0s 10ms/step - loss: 1.4197 - accuracy: 0.6577\n",
            "Epoch 41/200\n",
            "5/5 [==============================] - 0s 11ms/step - loss: 1.3512 - accuracy: 0.6779\n",
            "Epoch 42/200\n",
            "5/5 [==============================] - 0s 14ms/step - loss: 1.2713 - accuracy: 0.6846\n",
            "Epoch 43/200\n",
            "5/5 [==============================] - 0s 15ms/step - loss: 1.1900 - accuracy: 0.7315\n",
            "Epoch 44/200\n",
            "5/5 [==============================] - 0s 11ms/step - loss: 1.1208 - accuracy: 0.7315\n",
            "Epoch 45/200\n",
            "5/5 [==============================] - 0s 13ms/step - loss: 1.0445 - accuracy: 0.7584\n",
            "Epoch 46/200\n",
            "5/5 [==============================] - 0s 13ms/step - loss: 0.9808 - accuracy: 0.7651\n",
            "Epoch 47/200\n",
            "5/5 [==============================] - 0s 11ms/step - loss: 0.9209 - accuracy: 0.8121\n",
            "Epoch 48/200\n",
            "5/5 [==============================] - 0s 12ms/step - loss: 0.8638 - accuracy: 0.8188\n",
            "Epoch 49/200\n",
            "5/5 [==============================] - 0s 12ms/step - loss: 0.8112 - accuracy: 0.8523\n",
            "Epoch 50/200\n",
            "5/5 [==============================] - 0s 12ms/step - loss: 0.7616 - accuracy: 0.8859\n",
            "Epoch 51/200\n",
            "5/5 [==============================] - 0s 13ms/step - loss: 0.7215 - accuracy: 0.8792\n",
            "Epoch 52/200\n",
            "5/5 [==============================] - 0s 14ms/step - loss: 0.6652 - accuracy: 0.8993\n",
            "Epoch 53/200\n",
            "5/5 [==============================] - 0s 10ms/step - loss: 0.6350 - accuracy: 0.9329\n",
            "Epoch 54/200\n",
            "5/5 [==============================] - 0s 11ms/step - loss: 0.5949 - accuracy: 0.9396\n",
            "Epoch 55/200\n",
            "5/5 [==============================] - 0s 11ms/step - loss: 0.5555 - accuracy: 0.9262\n",
            "Epoch 56/200\n",
            "5/5 [==============================] - 0s 11ms/step - loss: 0.5143 - accuracy: 0.9329\n",
            "Epoch 57/200\n",
            "5/5 [==============================] - 0s 11ms/step - loss: 0.4837 - accuracy: 0.9597\n",
            "Epoch 58/200\n",
            "5/5 [==============================] - 0s 10ms/step - loss: 0.4539 - accuracy: 0.9597\n",
            "Epoch 59/200\n",
            "5/5 [==============================] - 0s 10ms/step - loss: 0.4307 - accuracy: 0.9463\n",
            "Epoch 60/200\n",
            "5/5 [==============================] - 0s 10ms/step - loss: 0.3926 - accuracy: 0.9597\n",
            "Epoch 61/200\n",
            "5/5 [==============================] - 0s 16ms/step - loss: 0.3709 - accuracy: 0.9866\n",
            "Epoch 62/200\n",
            "5/5 [==============================] - 0s 11ms/step - loss: 0.3492 - accuracy: 0.9799\n",
            "Epoch 63/200\n",
            "5/5 [==============================] - 0s 11ms/step - loss: 0.3202 - accuracy: 0.9732\n",
            "Epoch 64/200\n",
            "5/5 [==============================] - 0s 14ms/step - loss: 0.2944 - accuracy: 1.0000\n",
            "Epoch 65/200\n",
            "5/5 [==============================] - 0s 14ms/step - loss: 0.2753 - accuracy: 1.0000\n",
            "Epoch 66/200\n",
            "5/5 [==============================] - 0s 9ms/step - loss: 0.2593 - accuracy: 0.9933\n",
            "Epoch 67/200\n",
            "5/5 [==============================] - 0s 9ms/step - loss: 0.2440 - accuracy: 0.9933\n",
            "Epoch 68/200\n",
            "5/5 [==============================] - 0s 10ms/step - loss: 0.2275 - accuracy: 1.0000\n",
            "Epoch 69/200\n",
            "5/5 [==============================] - 0s 9ms/step - loss: 0.2134 - accuracy: 1.0000\n",
            "Epoch 70/200\n",
            "5/5 [==============================] - 0s 12ms/step - loss: 0.1979 - accuracy: 0.9933\n",
            "Epoch 71/200\n",
            "5/5 [==============================] - 0s 13ms/step - loss: 0.1898 - accuracy: 0.9866\n",
            "Epoch 72/200\n",
            "5/5 [==============================] - 0s 27ms/step - loss: 0.1751 - accuracy: 1.0000\n",
            "Epoch 73/200\n",
            "5/5 [==============================] - 0s 21ms/step - loss: 0.1646 - accuracy: 1.0000\n",
            "Epoch 74/200\n",
            "5/5 [==============================] - 0s 13ms/step - loss: 0.1575 - accuracy: 0.9933\n",
            "Epoch 75/200\n",
            "5/5 [==============================] - 0s 17ms/step - loss: 0.1434 - accuracy: 0.9933\n",
            "Epoch 76/200\n",
            "5/5 [==============================] - 0s 16ms/step - loss: 0.1358 - accuracy: 1.0000\n",
            "Epoch 77/200\n",
            "5/5 [==============================] - 0s 10ms/step - loss: 0.1275 - accuracy: 1.0000\n",
            "Epoch 78/200\n",
            "5/5 [==============================] - 0s 10ms/step - loss: 0.1178 - accuracy: 1.0000\n",
            "Epoch 79/200\n",
            "5/5 [==============================] - 0s 12ms/step - loss: 0.1148 - accuracy: 1.0000\n",
            "Epoch 80/200\n",
            "5/5 [==============================] - 0s 11ms/step - loss: 0.1074 - accuracy: 1.0000\n",
            "Epoch 81/200\n",
            "5/5 [==============================] - 0s 13ms/step - loss: 0.1024 - accuracy: 1.0000\n",
            "Epoch 82/200\n",
            "5/5 [==============================] - 0s 10ms/step - loss: 0.0963 - accuracy: 1.0000\n",
            "Epoch 83/200\n",
            "5/5 [==============================] - 0s 11ms/step - loss: 0.0884 - accuracy: 1.0000\n",
            "Epoch 84/200\n",
            "5/5 [==============================] - 0s 10ms/step - loss: 0.0884 - accuracy: 1.0000\n",
            "Epoch 85/200\n",
            "5/5 [==============================] - 0s 11ms/step - loss: 0.0805 - accuracy: 1.0000\n",
            "Epoch 86/200\n",
            "5/5 [==============================] - 0s 11ms/step - loss: 0.0775 - accuracy: 1.0000\n",
            "Epoch 87/200\n",
            "5/5 [==============================] - 0s 15ms/step - loss: 0.0736 - accuracy: 1.0000\n",
            "Epoch 88/200\n",
            "5/5 [==============================] - 0s 11ms/step - loss: 0.0700 - accuracy: 1.0000\n",
            "Epoch 89/200\n",
            "5/5 [==============================] - 0s 10ms/step - loss: 0.0689 - accuracy: 1.0000\n",
            "Epoch 90/200\n",
            "5/5 [==============================] - 0s 10ms/step - loss: 0.0631 - accuracy: 1.0000\n",
            "Epoch 91/200\n",
            "5/5 [==============================] - 0s 11ms/step - loss: 0.0637 - accuracy: 1.0000\n",
            "Epoch 92/200\n",
            "5/5 [==============================] - 0s 17ms/step - loss: 0.0583 - accuracy: 1.0000\n",
            "Epoch 93/200\n",
            "5/5 [==============================] - 0s 12ms/step - loss: 0.0564 - accuracy: 1.0000\n",
            "Epoch 94/200\n",
            "5/5 [==============================] - 0s 13ms/step - loss: 0.0539 - accuracy: 1.0000\n",
            "Epoch 95/200\n",
            "5/5 [==============================] - 0s 10ms/step - loss: 0.0519 - accuracy: 1.0000\n",
            "Epoch 96/200\n",
            "5/5 [==============================] - 0s 10ms/step - loss: 0.0497 - accuracy: 1.0000\n",
            "Epoch 97/200\n",
            "5/5 [==============================] - 0s 10ms/step - loss: 0.0473 - accuracy: 1.0000\n",
            "Epoch 98/200\n",
            "5/5 [==============================] - 0s 9ms/step - loss: 0.0451 - accuracy: 1.0000\n",
            "Epoch 99/200\n",
            "5/5 [==============================] - 0s 8ms/step - loss: 0.0430 - accuracy: 1.0000\n",
            "Epoch 100/200\n",
            "5/5 [==============================] - 0s 9ms/step - loss: 0.0423 - accuracy: 1.0000\n",
            "Epoch 101/200\n",
            "5/5 [==============================] - 0s 9ms/step - loss: 0.0404 - accuracy: 1.0000\n",
            "Epoch 102/200\n",
            "5/5 [==============================] - 0s 11ms/step - loss: 0.0390 - accuracy: 1.0000\n",
            "Epoch 103/200\n",
            "5/5 [==============================] - 0s 9ms/step - loss: 0.0380 - accuracy: 1.0000\n",
            "Epoch 104/200\n",
            "5/5 [==============================] - 0s 10ms/step - loss: 0.0362 - accuracy: 1.0000\n",
            "Epoch 105/200\n",
            "5/5 [==============================] - 0s 9ms/step - loss: 0.0352 - accuracy: 1.0000\n",
            "Epoch 106/200\n",
            "5/5 [==============================] - 0s 10ms/step - loss: 0.0343 - accuracy: 1.0000\n",
            "Epoch 107/200\n",
            "5/5 [==============================] - 0s 10ms/step - loss: 0.0328 - accuracy: 1.0000\n",
            "Epoch 108/200\n",
            "5/5 [==============================] - 0s 16ms/step - loss: 0.0319 - accuracy: 1.0000\n",
            "Epoch 109/200\n",
            "5/5 [==============================] - 0s 9ms/step - loss: 0.0309 - accuracy: 1.0000\n",
            "Epoch 110/200\n",
            "5/5 [==============================] - 0s 16ms/step - loss: 0.0296 - accuracy: 1.0000\n",
            "Epoch 111/200\n",
            "5/5 [==============================] - 0s 11ms/step - loss: 0.0292 - accuracy: 1.0000\n",
            "Epoch 112/200\n",
            "5/5 [==============================] - 0s 11ms/step - loss: 0.0281 - accuracy: 1.0000\n",
            "Epoch 113/200\n",
            "5/5 [==============================] - 0s 9ms/step - loss: 0.0272 - accuracy: 1.0000\n",
            "Epoch 114/200\n",
            "5/5 [==============================] - 0s 9ms/step - loss: 0.0264 - accuracy: 1.0000\n",
            "Epoch 115/200\n",
            "5/5 [==============================] - 0s 10ms/step - loss: 0.0255 - accuracy: 1.0000\n",
            "Epoch 116/200\n",
            "5/5 [==============================] - 0s 12ms/step - loss: 0.0249 - accuracy: 1.0000\n",
            "Epoch 117/200\n",
            "5/5 [==============================] - 0s 16ms/step - loss: 0.0243 - accuracy: 1.0000\n",
            "Epoch 118/200\n",
            "5/5 [==============================] - 0s 11ms/step - loss: 0.0235 - accuracy: 1.0000\n",
            "Epoch 119/200\n",
            "5/5 [==============================] - 0s 11ms/step - loss: 0.0230 - accuracy: 1.0000\n",
            "Epoch 120/200\n",
            "5/5 [==============================] - 0s 10ms/step - loss: 0.0222 - accuracy: 1.0000\n",
            "Epoch 121/200\n",
            "5/5 [==============================] - 0s 10ms/step - loss: 0.0217 - accuracy: 1.0000\n",
            "Epoch 122/200\n",
            "5/5 [==============================] - 0s 10ms/step - loss: 0.0211 - accuracy: 1.0000\n",
            "Epoch 123/200\n",
            "5/5 [==============================] - 0s 19ms/step - loss: 0.0205 - accuracy: 1.0000\n",
            "Epoch 124/200\n",
            "5/5 [==============================] - 0s 25ms/step - loss: 0.0200 - accuracy: 1.0000\n",
            "Epoch 125/200\n",
            "5/5 [==============================] - 0s 18ms/step - loss: 0.0195 - accuracy: 1.0000\n",
            "Epoch 126/200\n",
            "5/5 [==============================] - 0s 17ms/step - loss: 0.0190 - accuracy: 1.0000\n",
            "Epoch 127/200\n",
            "5/5 [==============================] - 0s 26ms/step - loss: 0.0186 - accuracy: 1.0000\n",
            "Epoch 128/200\n",
            "5/5 [==============================] - 0s 24ms/step - loss: 0.0181 - accuracy: 1.0000\n",
            "Epoch 129/200\n",
            "5/5 [==============================] - 0s 21ms/step - loss: 0.0177 - accuracy: 1.0000\n",
            "Epoch 130/200\n",
            "5/5 [==============================] - 0s 18ms/step - loss: 0.0172 - accuracy: 1.0000\n",
            "Epoch 131/200\n",
            "5/5 [==============================] - 0s 11ms/step - loss: 0.0169 - accuracy: 1.0000\n",
            "Epoch 132/200\n",
            "5/5 [==============================] - 0s 15ms/step - loss: 0.0165 - accuracy: 1.0000\n",
            "Epoch 133/200\n",
            "5/5 [==============================] - 0s 18ms/step - loss: 0.0161 - accuracy: 1.0000\n",
            "Epoch 134/200\n",
            "5/5 [==============================] - 0s 13ms/step - loss: 0.0156 - accuracy: 1.0000\n",
            "Epoch 135/200\n",
            "5/5 [==============================] - 0s 13ms/step - loss: 0.0154 - accuracy: 1.0000\n",
            "Epoch 136/200\n",
            "5/5 [==============================] - 0s 13ms/step - loss: 0.0150 - accuracy: 1.0000\n",
            "Epoch 137/200\n",
            "5/5 [==============================] - 0s 12ms/step - loss: 0.0148 - accuracy: 1.0000\n",
            "Epoch 138/200\n",
            "5/5 [==============================] - 0s 16ms/step - loss: 0.0144 - accuracy: 1.0000\n",
            "Epoch 139/200\n",
            "5/5 [==============================] - 0s 14ms/step - loss: 0.0141 - accuracy: 1.0000\n",
            "Epoch 140/200\n",
            "5/5 [==============================] - 0s 13ms/step - loss: 0.0138 - accuracy: 1.0000\n",
            "Epoch 141/200\n",
            "5/5 [==============================] - 0s 19ms/step - loss: 0.0135 - accuracy: 1.0000\n",
            "Epoch 142/200\n",
            "5/5 [==============================] - 0s 16ms/step - loss: 0.0132 - accuracy: 1.0000\n",
            "Epoch 143/200\n",
            "5/5 [==============================] - 0s 19ms/step - loss: 0.0130 - accuracy: 1.0000\n",
            "Epoch 144/200\n",
            "5/5 [==============================] - 0s 17ms/step - loss: 0.0127 - accuracy: 1.0000\n",
            "Epoch 145/200\n",
            "5/5 [==============================] - 0s 20ms/step - loss: 0.0124 - accuracy: 1.0000\n",
            "Epoch 146/200\n",
            "5/5 [==============================] - 0s 17ms/step - loss: 0.0122 - accuracy: 1.0000\n",
            "Epoch 147/200\n",
            "5/5 [==============================] - 0s 17ms/step - loss: 0.0120 - accuracy: 1.0000\n",
            "Epoch 148/200\n",
            "5/5 [==============================] - 0s 13ms/step - loss: 0.0117 - accuracy: 1.0000\n",
            "Epoch 149/200\n",
            "5/5 [==============================] - 0s 15ms/step - loss: 0.0114 - accuracy: 1.0000\n",
            "Epoch 150/200\n",
            "5/5 [==============================] - 0s 17ms/step - loss: 0.0113 - accuracy: 1.0000\n",
            "Epoch 151/200\n",
            "5/5 [==============================] - 0s 27ms/step - loss: 0.0110 - accuracy: 1.0000\n",
            "Epoch 152/200\n",
            "5/5 [==============================] - 0s 15ms/step - loss: 0.0108 - accuracy: 1.0000\n",
            "Epoch 153/200\n",
            "5/5 [==============================] - 0s 23ms/step - loss: 0.0106 - accuracy: 1.0000\n",
            "Epoch 154/200\n",
            "5/5 [==============================] - 0s 20ms/step - loss: 0.0105 - accuracy: 1.0000\n",
            "Epoch 155/200\n",
            "5/5 [==============================] - 0s 19ms/step - loss: 0.0103 - accuracy: 1.0000\n",
            "Epoch 156/200\n",
            "5/5 [==============================] - 0s 23ms/step - loss: 0.0100 - accuracy: 1.0000\n",
            "Epoch 157/200\n",
            "5/5 [==============================] - 0s 21ms/step - loss: 0.0099 - accuracy: 1.0000\n",
            "Epoch 158/200\n",
            "5/5 [==============================] - 0s 37ms/step - loss: 0.0097 - accuracy: 1.0000\n",
            "Epoch 159/200\n",
            "5/5 [==============================] - 0s 26ms/step - loss: 0.0095 - accuracy: 1.0000\n",
            "Epoch 160/200\n",
            "5/5 [==============================] - 0s 21ms/step - loss: 0.0094 - accuracy: 1.0000\n",
            "Epoch 161/200\n",
            "5/5 [==============================] - 0s 18ms/step - loss: 0.0092 - accuracy: 1.0000\n",
            "Epoch 162/200\n",
            "5/5 [==============================] - 0s 20ms/step - loss: 0.0091 - accuracy: 1.0000\n",
            "Epoch 163/200\n",
            "5/5 [==============================] - 0s 27ms/step - loss: 0.0089 - accuracy: 1.0000\n",
            "Epoch 164/200\n",
            "5/5 [==============================] - 0s 37ms/step - loss: 0.0088 - accuracy: 1.0000\n",
            "Epoch 165/200\n",
            "5/5 [==============================] - 0s 35ms/step - loss: 0.0086 - accuracy: 1.0000\n",
            "Epoch 166/200\n",
            "5/5 [==============================] - 0s 22ms/step - loss: 0.0085 - accuracy: 1.0000\n",
            "Epoch 167/200\n",
            "5/5 [==============================] - 0s 18ms/step - loss: 0.0083 - accuracy: 1.0000\n",
            "Epoch 168/200\n",
            "5/5 [==============================] - 0s 22ms/step - loss: 0.0082 - accuracy: 1.0000\n",
            "Epoch 169/200\n",
            "5/5 [==============================] - 0s 13ms/step - loss: 0.0080 - accuracy: 1.0000\n",
            "Epoch 170/200\n",
            "5/5 [==============================] - 0s 20ms/step - loss: 0.0079 - accuracy: 1.0000\n",
            "Epoch 171/200\n",
            "5/5 [==============================] - 0s 33ms/step - loss: 0.0077 - accuracy: 1.0000\n",
            "Epoch 172/200\n",
            "5/5 [==============================] - 0s 26ms/step - loss: 0.0076 - accuracy: 1.0000\n",
            "Epoch 173/200\n",
            "5/5 [==============================] - 0s 23ms/step - loss: 0.0075 - accuracy: 1.0000\n",
            "Epoch 174/200\n",
            "5/5 [==============================] - 0s 21ms/step - loss: 0.0074 - accuracy: 1.0000\n",
            "Epoch 175/200\n",
            "5/5 [==============================] - 0s 24ms/step - loss: 0.0073 - accuracy: 1.0000\n",
            "Epoch 176/200\n",
            "5/5 [==============================] - 0s 13ms/step - loss: 0.0072 - accuracy: 1.0000\n",
            "Epoch 177/200\n",
            "5/5 [==============================] - 0s 20ms/step - loss: 0.0070 - accuracy: 1.0000\n",
            "Epoch 178/200\n",
            "5/5 [==============================] - 0s 21ms/step - loss: 0.0069 - accuracy: 1.0000\n",
            "Epoch 179/200\n",
            "5/5 [==============================] - 0s 12ms/step - loss: 0.0068 - accuracy: 1.0000\n",
            "Epoch 180/200\n",
            "5/5 [==============================] - 0s 15ms/step - loss: 0.0067 - accuracy: 1.0000\n",
            "Epoch 181/200\n",
            "5/5 [==============================] - 0s 16ms/step - loss: 0.0066 - accuracy: 1.0000\n",
            "Epoch 182/200\n",
            "5/5 [==============================] - 0s 13ms/step - loss: 0.0065 - accuracy: 1.0000\n",
            "Epoch 183/200\n",
            "5/5 [==============================] - 0s 13ms/step - loss: 0.0064 - accuracy: 1.0000\n",
            "Epoch 184/200\n",
            "5/5 [==============================] - 0s 16ms/step - loss: 0.0063 - accuracy: 1.0000\n",
            "Epoch 185/200\n",
            "5/5 [==============================] - 0s 11ms/step - loss: 0.0062 - accuracy: 1.0000\n",
            "Epoch 186/200\n",
            "5/5 [==============================] - 0s 11ms/step - loss: 0.0061 - accuracy: 1.0000\n",
            "Epoch 187/200\n",
            "5/5 [==============================] - 0s 11ms/step - loss: 0.0060 - accuracy: 1.0000\n",
            "Epoch 188/200\n",
            "5/5 [==============================] - 0s 13ms/step - loss: 0.0059 - accuracy: 1.0000\n",
            "Epoch 189/200\n",
            "5/5 [==============================] - 0s 16ms/step - loss: 0.0058 - accuracy: 1.0000\n",
            "Epoch 190/200\n",
            "5/5 [==============================] - 0s 12ms/step - loss: 0.0058 - accuracy: 1.0000\n",
            "Epoch 191/200\n",
            "5/5 [==============================] - 0s 17ms/step - loss: 0.0057 - accuracy: 1.0000\n",
            "Epoch 192/200\n",
            "5/5 [==============================] - 0s 13ms/step - loss: 0.0056 - accuracy: 1.0000\n",
            "Epoch 193/200\n",
            "5/5 [==============================] - 0s 11ms/step - loss: 0.0055 - accuracy: 1.0000\n",
            "Epoch 194/200\n",
            "5/5 [==============================] - 0s 10ms/step - loss: 0.0054 - accuracy: 1.0000\n",
            "Epoch 195/200\n",
            "5/5 [==============================] - 0s 10ms/step - loss: 0.0054 - accuracy: 1.0000\n",
            "Epoch 196/200\n",
            "5/5 [==============================] - 0s 10ms/step - loss: 0.0053 - accuracy: 1.0000\n",
            "Epoch 197/200\n",
            "5/5 [==============================] - 0s 10ms/step - loss: 0.0052 - accuracy: 1.0000\n",
            "Epoch 198/200\n",
            "5/5 [==============================] - 0s 12ms/step - loss: 0.0051 - accuracy: 1.0000\n",
            "Epoch 199/200\n",
            "5/5 [==============================] - 0s 10ms/step - loss: 0.0051 - accuracy: 1.0000\n",
            "Epoch 200/200\n",
            "5/5 [==============================] - 0s 12ms/step - loss: 0.0050 - accuracy: 1.0000\n"
          ]
        },
        {
          "output_type": "execute_result",
          "data": {
            "text/plain": [
              "<keras.src.callbacks.History at 0x7aa053fad9f0>"
            ]
          },
          "metadata": {},
          "execution_count": 12
        }
      ]
    },
    {
      "cell_type": "code",
      "source": [
        "embeddings = model.get_weights()[0]\n",
        "\n",
        "pca = PCA(n_components=2)\n",
        "reduced_embeddings = pca.fit_transform(embeddings)"
      ],
      "metadata": {
        "id": "-mN6q_5PLYq9"
      },
      "id": "-mN6q_5PLYq9",
      "execution_count": 13,
      "outputs": []
    },
    {
      "cell_type": "code",
      "source": [
        "test_sentences = [\n",
        "    'we are to study',\n",
        "    'create programs direct processes'\n",
        "]\n",
        "\n",
        "for test_sentence in test_sentences:\n",
        "  test_words = test_sentence.split(\" \")\n",
        "  print(\"Words: \", test_words)\n",
        "  x_test = []\n",
        "  for i in test_words:\n",
        "    x_test.append(word_to_index_map.get(i))\n",
        "  x_test = np.array([x_test])\n",
        "  print(\"Indexs: \", x_test)\n",
        "  test_predictions = model.predict(x_test)\n",
        "  y_pred = np.argmax(test_predictions[0])\n",
        "  print(\"Predictons: \",test_words, \" => \", index_to_word_map.get(y_pred))"
      ],
      "metadata": {
        "colab": {
          "base_uri": "https://localhost:8080/",
          "height": 441
        },
        "id": "pPLnYJqILpu_",
        "outputId": "1a76141e-c786-4ba3-921d-fc5504df852f"
      },
      "id": "pPLnYJqILpu_",
      "execution_count": 14,
      "outputs": [
        {
          "output_type": "stream",
          "name": "stdout",
          "text": [
            "Words:  ['we', 'are', 'to', 'study']\n",
            "Indexs:  [[61 19 10 None]]\n"
          ]
        },
        {
          "output_type": "error",
          "ename": "ValueError",
          "evalue": "ignored",
          "traceback": [
            "\u001b[0;31m---------------------------------------------------------------------------\u001b[0m",
            "\u001b[0;31mValueError\u001b[0m                                Traceback (most recent call last)",
            "\u001b[0;32m<ipython-input-14-9f2f45f50f34>\u001b[0m in \u001b[0;36m<cell line: 6>\u001b[0;34m()\u001b[0m\n\u001b[1;32m     12\u001b[0m   \u001b[0mx_test\u001b[0m \u001b[0;34m=\u001b[0m \u001b[0mnp\u001b[0m\u001b[0;34m.\u001b[0m\u001b[0marray\u001b[0m\u001b[0;34m(\u001b[0m\u001b[0;34m[\u001b[0m\u001b[0mx_test\u001b[0m\u001b[0;34m]\u001b[0m\u001b[0;34m)\u001b[0m\u001b[0;34m\u001b[0m\u001b[0;34m\u001b[0m\u001b[0m\n\u001b[1;32m     13\u001b[0m   \u001b[0mprint\u001b[0m\u001b[0;34m(\u001b[0m\u001b[0;34m\"Indexs: \"\u001b[0m\u001b[0;34m,\u001b[0m \u001b[0mx_test\u001b[0m\u001b[0;34m)\u001b[0m\u001b[0;34m\u001b[0m\u001b[0;34m\u001b[0m\u001b[0m\n\u001b[0;32m---> 14\u001b[0;31m   \u001b[0mtest_predictions\u001b[0m \u001b[0;34m=\u001b[0m \u001b[0mmodel\u001b[0m\u001b[0;34m.\u001b[0m\u001b[0mpredict\u001b[0m\u001b[0;34m(\u001b[0m\u001b[0mx_test\u001b[0m\u001b[0;34m)\u001b[0m\u001b[0;34m\u001b[0m\u001b[0;34m\u001b[0m\u001b[0m\n\u001b[0m\u001b[1;32m     15\u001b[0m   \u001b[0my_pred\u001b[0m \u001b[0;34m=\u001b[0m \u001b[0mnp\u001b[0m\u001b[0;34m.\u001b[0m\u001b[0margmax\u001b[0m\u001b[0;34m(\u001b[0m\u001b[0mtest_predictions\u001b[0m\u001b[0;34m[\u001b[0m\u001b[0;36m0\u001b[0m\u001b[0;34m]\u001b[0m\u001b[0;34m)\u001b[0m\u001b[0;34m\u001b[0m\u001b[0;34m\u001b[0m\u001b[0m\n\u001b[1;32m     16\u001b[0m   \u001b[0mprint\u001b[0m\u001b[0;34m(\u001b[0m\u001b[0;34m\"Predictons: \"\u001b[0m\u001b[0;34m,\u001b[0m\u001b[0mtest_words\u001b[0m\u001b[0;34m,\u001b[0m \u001b[0;34m\" => \"\u001b[0m\u001b[0;34m,\u001b[0m \u001b[0mindex_to_word_map\u001b[0m\u001b[0;34m.\u001b[0m\u001b[0mget\u001b[0m\u001b[0;34m(\u001b[0m\u001b[0my_pred\u001b[0m\u001b[0;34m)\u001b[0m\u001b[0;34m)\u001b[0m\u001b[0;34m\u001b[0m\u001b[0;34m\u001b[0m\u001b[0m\n",
            "\u001b[0;32m/usr/local/lib/python3.10/dist-packages/keras/src/utils/traceback_utils.py\u001b[0m in \u001b[0;36merror_handler\u001b[0;34m(*args, **kwargs)\u001b[0m\n\u001b[1;32m     68\u001b[0m             \u001b[0;31m# To get the full stack trace, call:\u001b[0m\u001b[0;34m\u001b[0m\u001b[0;34m\u001b[0m\u001b[0m\n\u001b[1;32m     69\u001b[0m             \u001b[0;31m# `tf.debugging.disable_traceback_filtering()`\u001b[0m\u001b[0;34m\u001b[0m\u001b[0;34m\u001b[0m\u001b[0m\n\u001b[0;32m---> 70\u001b[0;31m             \u001b[0;32mraise\u001b[0m \u001b[0me\u001b[0m\u001b[0;34m.\u001b[0m\u001b[0mwith_traceback\u001b[0m\u001b[0;34m(\u001b[0m\u001b[0mfiltered_tb\u001b[0m\u001b[0;34m)\u001b[0m \u001b[0;32mfrom\u001b[0m \u001b[0;32mNone\u001b[0m\u001b[0;34m\u001b[0m\u001b[0;34m\u001b[0m\u001b[0m\n\u001b[0m\u001b[1;32m     71\u001b[0m         \u001b[0;32mfinally\u001b[0m\u001b[0;34m:\u001b[0m\u001b[0;34m\u001b[0m\u001b[0;34m\u001b[0m\u001b[0m\n\u001b[1;32m     72\u001b[0m             \u001b[0;32mdel\u001b[0m \u001b[0mfiltered_tb\u001b[0m\u001b[0;34m\u001b[0m\u001b[0;34m\u001b[0m\u001b[0m\n",
            "\u001b[0;32m/usr/local/lib/python3.10/dist-packages/tensorflow/python/framework/constant_op.py\u001b[0m in \u001b[0;36mconvert_to_eager_tensor\u001b[0;34m(value, ctx, dtype)\u001b[0m\n\u001b[1;32m    100\u001b[0m       \u001b[0mdtype\u001b[0m \u001b[0;34m=\u001b[0m \u001b[0mdtypes\u001b[0m\u001b[0;34m.\u001b[0m\u001b[0mas_dtype\u001b[0m\u001b[0;34m(\u001b[0m\u001b[0mdtype\u001b[0m\u001b[0;34m)\u001b[0m\u001b[0;34m.\u001b[0m\u001b[0mas_datatype_enum\u001b[0m\u001b[0;34m\u001b[0m\u001b[0;34m\u001b[0m\u001b[0m\n\u001b[1;32m    101\u001b[0m   \u001b[0mctx\u001b[0m\u001b[0;34m.\u001b[0m\u001b[0mensure_initialized\u001b[0m\u001b[0;34m(\u001b[0m\u001b[0;34m)\u001b[0m\u001b[0;34m\u001b[0m\u001b[0;34m\u001b[0m\u001b[0m\n\u001b[0;32m--> 102\u001b[0;31m   \u001b[0;32mreturn\u001b[0m \u001b[0mops\u001b[0m\u001b[0;34m.\u001b[0m\u001b[0mEagerTensor\u001b[0m\u001b[0;34m(\u001b[0m\u001b[0mvalue\u001b[0m\u001b[0;34m,\u001b[0m \u001b[0mctx\u001b[0m\u001b[0;34m.\u001b[0m\u001b[0mdevice_name\u001b[0m\u001b[0;34m,\u001b[0m \u001b[0mdtype\u001b[0m\u001b[0;34m)\u001b[0m\u001b[0;34m\u001b[0m\u001b[0;34m\u001b[0m\u001b[0m\n\u001b[0m\u001b[1;32m    103\u001b[0m \u001b[0;34m\u001b[0m\u001b[0m\n\u001b[1;32m    104\u001b[0m \u001b[0;34m\u001b[0m\u001b[0m\n",
            "\u001b[0;31mValueError\u001b[0m: Failed to convert a NumPy array to a Tensor (Unsupported object type int)."
          ]
        }
      ]
    }
  ],
  "metadata": {
    "kernelspec": {
      "display_name": "Python 3 (ipykernel)",
      "language": "python",
      "name": "python3"
    },
    "language_info": {
      "codemirror_mode": {
        "name": "ipython",
        "version": 3
      },
      "file_extension": ".py",
      "mimetype": "text/x-python",
      "name": "python",
      "nbconvert_exporter": "python",
      "pygments_lexer": "ipython3",
      "version": "3.8.10"
    },
    "colab": {
      "provenance": []
    }
  },
  "nbformat": 4,
  "nbformat_minor": 5
}