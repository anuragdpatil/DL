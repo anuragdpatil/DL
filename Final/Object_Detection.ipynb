{
  "nbformat": 4,
  "nbformat_minor": 0,
  "metadata": {
    "colab": {
      "provenance": []
    },
    "kernelspec": {
      "name": "python3",
      "display_name": "Python 3"
    },
    "language_info": {
      "name": "python"
    }
  },
  "cells": [
    {
      "cell_type": "code",
      "source": [
        "import numpy as np\n",
        "import pandas as pd\n",
        "import matplotlib.pyplot as plt\n",
        "import tensorflow as tf\n",
        "from tensorflow import keras\n",
        "from tensorflow.keras.applications import VGG16\n",
        "from tensorflow.keras.models import Model\n",
        "from tensorflow.keras.layers import Dense, Flatten, Dropout\n",
        "from tensorflow.keras.optimizers import Adam\n",
        "from tensorflow.keras.preprocessing.image import ImageDataGenerator"
      ],
      "metadata": {
        "id": "EpWH4v9b3pte"
      },
      "execution_count": 12,
      "outputs": []
    },
    {
      "cell_type": "code",
      "source": [
        "dataset_dir = \"./caltech-101-img\"\n",
        "dataset_datagen = ImageDataGenerator(\n",
        "    resize=1.0/255,\n",
        ")\n",
        "\n",
        "batch_size = 2000\n",
        "dataset_generator = dataset_datagen.flow_from_directory(\n",
        "    dataset_dir,\n",
        "    target_size = (64, 64),\n",
        "    batch_size = batch_size,\n",
        "    class_mode = 'categorical'\n",
        ")"
      ],
      "metadata": {
        "id": "6Yb5KiQj4Mom"
      },
      "execution_count": null,
      "outputs": []
    },
    {
      "cell_type": "code",
      "source": [
        "x_train, y_train = dataset_generator[0]\n",
        "x_test, y_test = dataset_generator[1]"
      ],
      "metadata": {
        "id": "No0nXoLa5gyh"
      },
      "execution_count": null,
      "outputs": []
    },
    {
      "cell_type": "code",
      "source": [
        "weights_path = \"\"\n",
        "base_model = VGG16(weights=weights_path, input_shape=(64, 64, 3), include_top=False)"
      ],
      "metadata": {
        "id": "sNkFD8dr5xdY"
      },
      "execution_count": null,
      "outputs": []
    },
    {
      "cell_type": "code",
      "source": [
        "for layer in base_model.layers:\n",
        "  layer.trainable = False"
      ],
      "metadata": {
        "id": "Mp1_5v1P6W4a"
      },
      "execution_count": null,
      "outputs": []
    },
    {
      "cell_type": "code",
      "source": [
        "x = Flatten()(base_model.output)\n",
        "x = Dense(64, activation='relu')(x)\n",
        "\n",
        "predictions = Dense(102, activation='softmax')(x)\n",
        "\n",
        "model = Model(inputs=base_model.input, outputs=predictions)\n",
        "model.compile(loss='categorical_crossentropy', optimizer='adam', metrics=['accuracy'])\n",
        "model.fit(x_train, y_train, batch_size=64, epochs=3, validation_data=(x_test, y_test))"
      ],
      "metadata": {
        "id": "9XmIOiN-6jY0"
      },
      "execution_count": null,
      "outputs": []
    },
    {
      "cell_type": "code",
      "source": [
        "base_model = VGG16(weights=weights_path, include_top=False, input_shape=(64, 64, 3))\n",
        "\n",
        "for layer in base_model.layers:\n",
        "  layer.trainable = False\n",
        "\n",
        "for layer in base_model.layers[len(base_model.layers) - 2:]:\n",
        "  layer.trainable = True\n",
        "\n",
        "x = Flatten()(base_model.output)\n",
        "x = Dense(64, activation='relu')(x)\n",
        "x = Dropout(0.3)(x)\n",
        "\n",
        "predictions = Dense(102, activation='softmax')\n",
        "\n",
        "model = Model(inputs=base_model.input, outputs=predictions)\n",
        "model.compile(loss='categorical_crossentropy', activation=Adam(learning_rate=0.01), metrica=['activation'])\n",
        "model.fit(x_train, y_train, batch_size=64, epochs=3, validation_data=(x_test, y_test))"
      ],
      "metadata": {
        "id": "kMBsNZ1l7XDa"
      },
      "execution_count": null,
      "outputs": []
    },
    {
      "cell_type": "code",
      "source": [
        "pred = model.predict(x_test)"
      ],
      "metadata": {
        "id": "JeVu1QYp9F8E"
      },
      "execution_count": null,
      "outputs": []
    },
    {
      "cell_type": "code",
      "source": [
        "labels = list(dataset_generator.class_indices.keys())\n",
        "\n",
        "n=21\n",
        "plt.imgshow(x_train[n])\n",
        "print(\"Actual: \", labels[np.argmax(x_test[n])])\n",
        "print(\"Predicted: \", labels[np.argmax(pred[n])])"
      ],
      "metadata": {
        "id": "llVGPrUF9P4A"
      },
      "execution_count": null,
      "outputs": []
    }
  ]
}